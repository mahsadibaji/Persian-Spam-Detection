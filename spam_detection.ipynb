{
  "nbformat": 4,
  "nbformat_minor": 0,
  "metadata": {
    "colab": {
      "name": "spam-detection.ipynb",
      "provenance": [],
      "collapsed_sections": []
    },
    "kernelspec": {
      "display_name": "Python 3",
      "name": "python3"
    }
  },
  "cells": [
    {
      "cell_type": "code",
      "metadata": {
        "id": "Iajmyc1o_Y01"
      },
      "source": [
        "!pip install hazm"
      ],
      "execution_count": null,
      "outputs": []
    },
    {
      "cell_type": "markdown",
      "metadata": {
        "id": "_zYXaNK9P-9t"
      },
      "source": [
        "# **Authentication**"
      ]
    },
    {
      "cell_type": "code",
      "metadata": {
        "id": "nAuFqbdimzxK"
      },
      "source": [
        "from pydrive.auth import GoogleAuth\n",
        "from pydrive.drive import GoogleDrive\n",
        "from google.colab import auth\n",
        "from oauth2client.client import GoogleCredentials"
      ],
      "execution_count": null,
      "outputs": []
    },
    {
      "cell_type": "code",
      "metadata": {
        "id": "XOdOzX-DoV3-"
      },
      "source": [
        "auth.authenticate_user()\n",
        "gauth = GoogleAuth()\n",
        "gauth.credentials = GoogleCredentials.get_application_default()\n",
        "drive = GoogleDrive(gauth)"
      ],
      "execution_count": null,
      "outputs": []
    },
    {
      "cell_type": "markdown",
      "metadata": {
        "id": "gMq_hmq1QM9C"
      },
      "source": [
        "# **Load Train and Test Data**"
      ]
    },
    {
      "cell_type": "code",
      "metadata": {
        "colab": {
          "base_uri": "https://localhost:8080/"
        },
        "id": "L-B4jaJKzN3c",
        "outputId": "d0b53369-4bf8-4dcb-a26c-893456f13737"
      },
      "source": [
        "from google.colab import drive\n",
        "import warnings\n",
        "drive.mount('/gdrive',force_remount=True)\n",
        "%cd /gdrive/MyDrive/Spam-filtering/emails"
      ],
      "execution_count": null,
      "outputs": [
        {
          "output_type": "stream",
          "text": [
            "Mounted at /gdrive\n",
            "/gdrive/MyDrive/Spam-filtering/emails\n"
          ],
          "name": "stdout"
        }
      ]
    },
    {
      "cell_type": "markdown",
      "metadata": {
        "id": "zsXKJnMyzj1G"
      },
      "source": [
        "Load train data into pandas dataframe:\n",
        "\n"
      ]
    },
    {
      "cell_type": "code",
      "metadata": {
        "id": "xZqYOPPY1lDu"
      },
      "source": [
        "import pandas as pd\n",
        "import glob\n",
        "\n",
        "hamtraining = glob.glob(\"/gdrive/MyDrive/Spam-filtering/emails/hamtraining/*.txt\")\n",
        "spamtraining = glob.glob(\"/gdrive/MyDrive/Spam-filtering/emails/spamtraining/*.txt\")\n",
        "train_data=pd.DataFrame(columns=['email','spam'])\n",
        "for data_file in hamtraining:\n",
        "  with open(data_file, 'r',encoding='utf8') as f:\n",
        "    train_data=train_data.append({'email':f.read(),'spam':0},ignore_index=True)\n",
        "for data_file in spamtraining:\n",
        "  with open(data_file, 'r',encoding='utf8') as f:\n",
        "    train_data=train_data.append({'email':f.read(),'spam':1},ignore_index=True)"
      ],
      "execution_count": null,
      "outputs": []
    },
    {
      "cell_type": "markdown",
      "metadata": {
        "id": "8SnC1YwCzseZ"
      },
      "source": [
        "Load test data into pandas dataframe:\n"
      ]
    },
    {
      "cell_type": "code",
      "metadata": {
        "id": "Tr0l6s76NjPH"
      },
      "source": [
        "hamtesting=glob.glob(\"/gdrive/MyDrive/Spam-filtering/emails/hamtesting/*.txt\")\n",
        "spamtesting=glob.glob(\"/gdrive/MyDrive/Spam-filtering/emails/spamtesting/*.txt\")\n",
        "test_data=pd.DataFrame(columns=['email','spam'])\n",
        "for data_file in hamtesting:\n",
        "  with open(data_file, 'r',encoding='utf8') as f:\n",
        "    test_data=test_data.append({'email':f.read(),'spam':0},ignore_index=True)\n",
        "for data_file in spamtesting:\n",
        "  with open(data_file, 'r',encoding='utf8') as f:\n",
        "    test_data=test_data.append({'email':f.read(),'spam':1},ignore_index=True)"
      ],
      "execution_count": null,
      "outputs": []
    },
    {
      "cell_type": "code",
      "metadata": {
        "colab": {
          "base_uri": "https://localhost:8080/"
        },
        "id": "hnyYvMzm9UgZ",
        "outputId": "a301ec64-d76e-47e8-e0e2-8d63b65b0e67"
      },
      "source": [
        "test_data.shape"
      ],
      "execution_count": null,
      "outputs": [
        {
          "output_type": "execute_result",
          "data": {
            "text/plain": [
              "(400, 2)"
            ]
          },
          "metadata": {
            "tags": []
          },
          "execution_count": 8
        }
      ]
    },
    {
      "cell_type": "markdown",
      "metadata": {
        "id": "3Dky3-2xQm_b"
      },
      "source": [
        "Shuffle train dataframe "
      ]
    },
    {
      "cell_type": "code",
      "metadata": {
        "colab": {
          "base_uri": "https://localhost:8080/",
          "height": 206
        },
        "id": "rZw7FqBzAaIz",
        "outputId": "632f4921-2052-41b9-9570-d2947aba6c91"
      },
      "source": [
        "train_data = train_data.sample(frac = 1) \n",
        "train_data.head()"
      ],
      "execution_count": null,
      "outputs": [
        {
          "output_type": "execute_result",
          "data": {
            "text/html": [
              "<div>\n",
              "<style scoped>\n",
              "    .dataframe tbody tr th:only-of-type {\n",
              "        vertical-align: middle;\n",
              "    }\n",
              "\n",
              "    .dataframe tbody tr th {\n",
              "        vertical-align: top;\n",
              "    }\n",
              "\n",
              "    .dataframe thead th {\n",
              "        text-align: right;\n",
              "    }\n",
              "</style>\n",
              "<table border=\"1\" class=\"dataframe\">\n",
              "  <thead>\n",
              "    <tr style=\"text-align: right;\">\n",
              "      <th></th>\n",
              "      <th>email</th>\n",
              "      <th>spam</th>\n",
              "    </tr>\n",
              "  </thead>\n",
              "  <tbody>\n",
              "    <tr>\n",
              "      <th>500</th>\n",
              "      <td>﻿    خود را با مد فصل جديد هماهنگ كنيد.\\n\\n﻿\\n...</td>\n",
              "      <td>1</td>\n",
              "    </tr>\n",
              "    <tr>\n",
              "      <th>495</th>\n",
              "      <td>﻿    این مجموعه مخصوص افراد مشکل پسند است\\n\\nا...</td>\n",
              "      <td>1</td>\n",
              "    </tr>\n",
              "    <tr>\n",
              "      <th>248</th>\n",
              "      <td>﻿با سلام به شما دوست عزیز\\nنمونه سوالات ازمون ...</td>\n",
              "      <td>0</td>\n",
              "    </tr>\n",
              "    <tr>\n",
              "      <th>276</th>\n",
              "      <td>﻿&gt;&gt; سلام عزیز\\n&gt;&gt; سعی کردم تا جایی که در توانم...</td>\n",
              "      <td>0</td>\n",
              "    </tr>\n",
              "    <tr>\n",
              "      <th>41</th>\n",
              "      <td>﻿خانم صالح. من در دوره ی متوسطه و دوره ی لیسان...</td>\n",
              "      <td>0</td>\n",
              "    </tr>\n",
              "  </tbody>\n",
              "</table>\n",
              "</div>"
            ],
            "text/plain": [
              "                                                 email spam\n",
              "500  ﻿    خود را با مد فصل جديد هماهنگ كنيد.\\n\\n﻿\\n...    1\n",
              "495  ﻿    این مجموعه مخصوص افراد مشکل پسند است\\n\\nا...    1\n",
              "248  ﻿با سلام به شما دوست عزیز\\nنمونه سوالات ازمون ...    0\n",
              "276  ﻿>> سلام عزیز\\n>> سعی کردم تا جایی که در توانم...    0\n",
              "41   ﻿خانم صالح. من در دوره ی متوسطه و دوره ی لیسان...    0"
            ]
          },
          "metadata": {
            "tags": []
          },
          "execution_count": 9
        }
      ]
    },
    {
      "cell_type": "markdown",
      "metadata": {
        "id": "spbd_KnDQh0D"
      },
      "source": [
        "# **PreProcessing**"
      ]
    },
    {
      "cell_type": "code",
      "metadata": {
        "id": "JqaYMcwyLZRW"
      },
      "source": [
        "class const:\n",
        "\n",
        "    farsi = ('ب', 'س', 'ش', 'ل', 'ت', 'ن', 'م', 'گ', 'ظ', 'ط', 'ز',\n",
        "             'ر', 'ژ', 'ذ', 'د', 'پ', 'چ', 'ج', 'ح', 'ع', 'خ', 'غ', 'ف', 'ق', 'ث', 'ص', 'ض', ' ')\n",
        "\n",
        "    alef = ('ا', 'آ', 'ء', 'أ', 'إ')\n",
        "    vav = ('و', 'ؤ')\n",
        "    heh = ('ه', 'ة', 'ە')\n",
        "    yah = ('ی', 'ي', 'ئ', 'ى')\n",
        "    kaf = ('ک', 'ك')\n",
        "\n",
        "\n",
        "def finder(char):\n",
        "    if char in const.alef:\n",
        "        return const.alef[0]\n",
        "    if char in const.farsi:\n",
        "        return char\n",
        "    elif char in const.vav:\n",
        "        return const.vav[0]\n",
        "    elif char in const.heh:\n",
        "        return const.heh[0]\n",
        "    elif char in const.yah:\n",
        "        return const.yah[0]\n",
        "    elif char in const.kaf:\n",
        "        return const.kaf[0]\n",
        "    return ''\n",
        "\n",
        "def remove_non_farsi(text):\n",
        "  text=text.replace(\"\\n\", \" \")\n",
        "  map_test = map(finder, text)\n",
        "  result = ''.join(map_test)\n",
        "  return result"
      ],
      "execution_count": null,
      "outputs": []
    },
    {
      "cell_type": "markdown",
      "metadata": {
        "id": "hyGVcjdNQ6cE"
      },
      "source": [
        "normalize half spaces and some other stuff using hazm normalizer\n",
        "\n"
      ]
    },
    {
      "cell_type": "code",
      "metadata": {
        "id": "ZEN9yn8A_NEi"
      },
      "source": [
        "from hazm import Normalizer\n",
        "normalizer = Normalizer()\n",
        "train_data['email']=train_data['email'].apply(normalizer.normalize)\n",
        "test_data['email']=test_data['email'].apply(normalizer.normalize)"
      ],
      "execution_count": null,
      "outputs": []
    },
    {
      "cell_type": "markdown",
      "metadata": {
        "id": "j_kxuXHVSaMA"
      },
      "source": [
        "remove english and special characters"
      ]
    },
    {
      "cell_type": "code",
      "metadata": {
        "id": "uOlKHN94P18L"
      },
      "source": [
        "train_data['email']=train_data['email'].apply(remove_non_farsi)\n",
        "test_data['email']=test_data['email'].apply(remove_non_farsi)"
      ],
      "execution_count": null,
      "outputs": []
    },
    {
      "cell_type": "code",
      "metadata": {
        "colab": {
          "base_uri": "https://localhost:8080/",
          "height": 206
        },
        "id": "L-buIGTaQT7F",
        "outputId": "da847de3-7700-4866-8b91-cb8c7935e6c3"
      },
      "source": [
        "train_data.head()"
      ],
      "execution_count": null,
      "outputs": [
        {
          "output_type": "execute_result",
          "data": {
            "text/html": [
              "<div>\n",
              "<style scoped>\n",
              "    .dataframe tbody tr th:only-of-type {\n",
              "        vertical-align: middle;\n",
              "    }\n",
              "\n",
              "    .dataframe tbody tr th {\n",
              "        vertical-align: top;\n",
              "    }\n",
              "\n",
              "    .dataframe thead th {\n",
              "        text-align: right;\n",
              "    }\n",
              "</style>\n",
              "<table border=\"1\" class=\"dataframe\">\n",
              "  <thead>\n",
              "    <tr style=\"text-align: right;\">\n",
              "      <th></th>\n",
              "      <th>email</th>\n",
              "      <th>spam</th>\n",
              "    </tr>\n",
              "  </thead>\n",
              "  <tbody>\n",
              "    <tr>\n",
              "      <th>500</th>\n",
              "      <td>خود را با مد فصل جدید هماهنگ کنید       انگشت...</td>\n",
              "      <td>1</td>\n",
              "    </tr>\n",
              "    <tr>\n",
              "      <th>495</th>\n",
              "      <td>این مجموعه مخصوص افراد مشکل پسند است  این محص...</td>\n",
              "      <td>1</td>\n",
              "    </tr>\n",
              "    <tr>\n",
              "      <th>248</th>\n",
              "      <td>با سلام به شما دوست عزیز نمونه سوالات ازمون دک...</td>\n",
              "      <td>0</td>\n",
              "    </tr>\n",
              "    <tr>\n",
              "      <th>276</th>\n",
              "      <td>سلام عزیز  سعی کردم تا جایی که در توانم بود م...</td>\n",
              "      <td>0</td>\n",
              "    </tr>\n",
              "    <tr>\n",
              "      <th>41</th>\n",
              "      <td>خانم صالح من در دورهی متوسطه و دورهی لیسانس در...</td>\n",
              "      <td>0</td>\n",
              "    </tr>\n",
              "  </tbody>\n",
              "</table>\n",
              "</div>"
            ],
            "text/plain": [
              "                                                 email spam\n",
              "500   خود را با مد فصل جدید هماهنگ کنید       انگشت...    1\n",
              "495   این مجموعه مخصوص افراد مشکل پسند است  این محص...    1\n",
              "248  با سلام به شما دوست عزیز نمونه سوالات ازمون دک...    0\n",
              "276   سلام عزیز  سعی کردم تا جایی که در توانم بود م...    0\n",
              "41   خانم صالح من در دورهی متوسطه و دورهی لیسانس در...    0"
            ]
          },
          "metadata": {
            "tags": []
          },
          "execution_count": 13
        }
      ]
    },
    {
      "cell_type": "markdown",
      "metadata": {
        "id": "YiHoLFqcSlqM"
      },
      "source": [
        "word tokenization, stop word removal and stemming "
      ]
    },
    {
      "cell_type": "code",
      "metadata": {
        "id": "ER8xQJp0Qo9E"
      },
      "source": [
        "from hazm import Stemmer, word_tokenize, utils\n",
        "stemmer=Stemmer()\n",
        "def preprocess(text):\n",
        "  words=[stemmer.stem(w) for w in word_tokenize(text) if w not in utils.stopwords_list()]\n",
        "  return ' '.join(words)"
      ],
      "execution_count": null,
      "outputs": []
    },
    {
      "cell_type": "code",
      "metadata": {
        "id": "FRed6q1MwkVa"
      },
      "source": [
        "train_data['email']=train_data['email'].apply(preprocess)\n",
        "test_data['email']=test_data['email'].apply(preprocess)"
      ],
      "execution_count": null,
      "outputs": []
    },
    {
      "cell_type": "code",
      "metadata": {
        "id": "jNKOvcyq_kuf"
      },
      "source": [
        "from sklearn.model_selection import train_test_split\n",
        "x_train, x_val, y_train, y_val = train_test_split(train_data['email'],train_data['spam'],test_size=0.2,random_state=42)\n",
        "x_test=test_data['email']\n",
        "y_test=test_data['spam']"
      ],
      "execution_count": null,
      "outputs": []
    },
    {
      "cell_type": "code",
      "metadata": {
        "colab": {
          "base_uri": "https://localhost:8080/"
        },
        "id": "3wQqjACz1_Cb",
        "outputId": "68f296ee-4fc6-4845-dd82-efc88934d9a7"
      },
      "source": [
        "x_train.shape"
      ],
      "execution_count": null,
      "outputs": [
        {
          "output_type": "execute_result",
          "data": {
            "text/plain": [
              "(480,)"
            ]
          },
          "metadata": {
            "tags": []
          },
          "execution_count": 17
        }
      ]
    },
    {
      "cell_type": "markdown",
      "metadata": {
        "id": "SHJnb0IZEroc"
      },
      "source": [
        "# **Feature Selection with chi2**"
      ]
    },
    {
      "cell_type": "code",
      "metadata": {
        "colab": {
          "base_uri": "https://localhost:8080/"
        },
        "id": "e8cNfzly82D3",
        "outputId": "f31f52c2-d2de-4479-d704-b92d72158cf1"
      },
      "source": [
        "from sklearn.feature_extraction.text import CountVectorizer\n",
        "vectorizer = CountVectorizer(max_features=5000, ngram_range=(1,1),min_df=5)\n",
        "vectorizer.fit(x_train)"
      ],
      "execution_count": null,
      "outputs": [
        {
          "output_type": "execute_result",
          "data": {
            "text/plain": [
              "CountVectorizer(analyzer='word', binary=False, decode_error='strict',\n",
              "                dtype=<class 'numpy.int64'>, encoding='utf-8', input='content',\n",
              "                lowercase=True, max_df=1.0, max_features=5000, min_df=5,\n",
              "                ngram_range=(1, 1), preprocessor=None, stop_words=None,\n",
              "                strip_accents=None, token_pattern='(?u)\\\\b\\\\w\\\\w+\\\\b',\n",
              "                tokenizer=None, vocabulary=None)"
            ]
          },
          "metadata": {
            "tags": []
          },
          "execution_count": 18
        }
      ]
    },
    {
      "cell_type": "code",
      "metadata": {
        "id": "Ds3Uzy4mDEvb"
      },
      "source": [
        "x_train_vec = vectorizer.transform(x_train).toarray()\n",
        "x_val_vec = vectorizer.transform(x_val).toarray()\n",
        "x_test_vec = vectorizer.transform(test_data['email']).toarray()"
      ],
      "execution_count": null,
      "outputs": []
    },
    {
      "cell_type": "code",
      "metadata": {
        "colab": {
          "base_uri": "https://localhost:8080/"
        },
        "id": "FSTtuQ-20IiW",
        "outputId": "5c33b4b7-16cf-4ab1-ede8-8561c619ffd4"
      },
      "source": [
        "x_train_vec.shape"
      ],
      "execution_count": null,
      "outputs": [
        {
          "output_type": "execute_result",
          "data": {
            "text/plain": [
              "(480, 2079)"
            ]
          },
          "metadata": {
            "tags": []
          },
          "execution_count": 21
        }
      ]
    },
    {
      "cell_type": "code",
      "metadata": {
        "id": "_LBaILU4DkXj"
      },
      "source": [
        "from sklearn.feature_selection import SelectKBest, chi2\n",
        "transformer = SelectKBest(chi2, k=200).fit(x_train_vec, y_train.to_list())"
      ],
      "execution_count": null,
      "outputs": []
    },
    {
      "cell_type": "code",
      "metadata": {
        "id": "YpaZwSClFFzR"
      },
      "source": [
        "x_train_chi2 = transformer.transform(x_train_vec)\n",
        "x_val_chi2=transformer.transform(x_val_vec)\n",
        "x_test_chi2=transformer.transform(x_test_vec)"
      ],
      "execution_count": null,
      "outputs": []
    },
    {
      "cell_type": "code",
      "metadata": {
        "colab": {
          "base_uri": "https://localhost:8080/"
        },
        "id": "2xxRDoLFFSv8",
        "outputId": "18ffe8d5-078d-4132-9c8c-2e29716ea5ee"
      },
      "source": [
        "type(x_test_chi2)"
      ],
      "execution_count": null,
      "outputs": [
        {
          "output_type": "execute_result",
          "data": {
            "text/plain": [
              "numpy.ndarray"
            ]
          },
          "metadata": {
            "tags": []
          },
          "execution_count": 26
        }
      ]
    },
    {
      "cell_type": "code",
      "metadata": {
        "colab": {
          "base_uri": "https://localhost:8080/",
          "height": 629
        },
        "id": "uMGFu59XFUj-",
        "outputId": "b98a64ac-c02d-414b-ff74-359cf461caf3"
      },
      "source": [
        "import matplotlib.pyplot as plt\n",
        "\n",
        "chi2score = chi2(x_train_chi2, y_train.to_list())[0]\n",
        "\n",
        "plt.figure(figsize=(15,10))\n",
        "wscores = zip(vectorizer.get_feature_names(), chi2score)\n",
        "wchi2 = sorted(wscores, key=lambda x:x[1])\n",
        "topchi2 = zip(*wchi2[-20:])\n",
        "lst_topchi2=list(topchi2)\n",
        "x = range(len(lst_topchi2[1]))\n",
        "labels = lst_topchi2[0]\n",
        "plt.barh(x,lst_topchi2[1], align='center', alpha=0.2)\n",
        "plt.plot(lst_topchi2[1], x, '-o', markersize=5, alpha=0.8)\n",
        "plt.yticks(x, labels)\n",
        "plt.xlabel('$\\chi^2$')"
      ],
      "execution_count": null,
      "outputs": [
        {
          "output_type": "execute_result",
          "data": {
            "text/plain": [
              "Text(0.5, 0, '$\\\\chi^2$')"
            ]
          },
          "metadata": {
            "tags": []
          },
          "execution_count": 25
        },
        {
          "output_type": "display_data",
          "data": {
            "image/png": "[encoded data removed]",
            "text/plain": [
              "<Figure size 1080x720 with 1 Axes>"
            ]
          },
          "metadata": {
            "tags": []
          }
        }
      ]
    },
    {
      "cell_type": "markdown",
      "metadata": {
        "id": "NhrT_cZXINO0"
      },
      "source": [
        "# **KNN with cosine similarity**"
      ]
    },
    {
      "cell_type": "code",
      "metadata": {
        "id": "FEpqO41U2Wln"
      },
      "source": [
        "from sklearn.metrics.pairwise import cosine_similarity,cosine_distances\n",
        "import numpy as np\n",
        "# Counter to help with label voting\n",
        "from collections import Counter\n",
        "\n",
        "def knn_cosine_predict(x_train, x_test, y_train, y_test, k):\n",
        "\n",
        "    # Make predictions on the test data\n",
        "    # Need output of 1 prediction per test data point\n",
        "    y_hat = []\n",
        "\n",
        "    for test_point in x_test:\n",
        "        distances = []\n",
        "\n",
        "        for train_point in x_train:\n",
        "            distance = 1-cosine_similarity(test_point.reshape(1,-1), train_point.reshape(1,-1))[0][0]\n",
        "            distances.append(distance)\n",
        "        # Store distances in a dataframe\n",
        "        df_dists = pd.DataFrame(data=distances, columns=['dist'], \n",
        "                                index=y_train.index)\n",
        "        \n",
        "        # Sort distances, and only consider the k closest points\n",
        "        df_nn = df_dists.sort_values(by=['dist'], axis=0)[:k]\n",
        "\n",
        "        # Create counter object to track the labels of k closest neighbors\n",
        "        counter = Counter(y_train[df_nn.index])\n",
        "        # Get most common label of all the nearest neighbors\n",
        "        prediction = counter.most_common()[0][0]\n",
        "        \n",
        "        # Append prediction to output list\n",
        "        y_hat.append(prediction)\n",
        "        \n",
        "    return y_hat\n"
      ],
      "execution_count": null,
      "outputs": []
    },
    {
      "cell_type": "markdown",
      "metadata": {
        "id": "jEC9sOhRLYnB"
      },
      "source": [
        "Get accuracy score for validation set prediction with k=5"
      ]
    },
    {
      "cell_type": "code",
      "metadata": {
        "colab": {
          "base_uri": "https://localhost:8080/"
        },
        "id": "hzTyFa9r5Kko",
        "outputId": "1a130953-7742-4225-b9c3-fcb9702c6af0"
      },
      "source": [
        "# Get  accuracy score\n",
        "\n",
        "from sklearn.metrics import accuracy_score\n",
        "y_val_pred_knn_cosine=knn_cosine_predict(x_train_chi2, x_val_chi2, y_train, y_val, k=5)\n",
        "print(accuracy_score(y_val.to_list(), y_val_pred_knn_cosine))"
      ],
      "execution_count": null,
      "outputs": [
        {
          "output_type": "stream",
          "text": [
            "0.8916666666666667\n"
          ],
          "name": "stdout"
        }
      ]
    },
    {
      "cell_type": "markdown",
      "metadata": {
        "id": "jkmIsBG1L3cv"
      },
      "source": [
        "### **Hyperparameter tuning**"
      ]
    },
    {
      "cell_type": "code",
      "metadata": {
        "id": "3cPtw_qpEUy-"
      },
      "source": [
        "knn_cosine_accuracy=[]\n",
        "k_values=[]\n",
        "for k in range(1,10):\n",
        "  y_pred_knn_cosine=knn_cosine_predict(x_train_chi2, x_val_chi2, y_train, y_val, k=k)\n",
        "  knn_cosine_accuracy.append(accuracy_score(y_val.to_list(), y_pred_knn_cosine))\n",
        "  k_values.append(k)"
      ],
      "execution_count": null,
      "outputs": []
    },
    {
      "cell_type": "code",
      "metadata": {
        "colab": {
          "base_uri": "https://localhost:8080/",
          "height": 301
        },
        "id": "j9TWKZj7GO2L",
        "outputId": "44780caa-8195-4935-dbf8-dbc1e8dbd441"
      },
      "source": [
        "plt.plot(k_values,knn_cosine_accuracy,'--bo')\n",
        "print(knn_cosine_accuracy)\n",
        "best_k=knn_cosine_accuracy.index(max(knn_cosine_accuracy))+1\n",
        "print(best_k)"
      ],
      "execution_count": null,
      "outputs": [
        {
          "output_type": "stream",
          "text": [
            "[0.95, 0.95, 0.925, 0.95, 0.8916666666666667, 0.9166666666666666, 0.8916666666666667, 0.9333333333333333, 0.8916666666666667]\n",
            "1\n"
          ],
          "name": "stdout"
        },
        {
          "output_type": "display_data",
          "data": {
            "image/png": "[encoded data removed]",
            "text/plain": [
              "<Figure size 432x288 with 1 Axes>"
            ]
          },
          "metadata": {
            "tags": []
          }
        }
      ]
    },
    {
      "cell_type": "markdown",
      "metadata": {
        "id": "ioHQ08f6MAta"
      },
      "source": [
        "### **Classification Report**"
      ]
    },
    {
      "cell_type": "code",
      "metadata": {
        "colab": {
          "base_uri": "https://localhost:8080/"
        },
        "id": "un72loitLrKg",
        "outputId": "a0eb57e1-bda7-408c-aa23-26aa4a101059"
      },
      "source": [
        "from sklearn.metrics import classification_report,confusion_matrix\n",
        "\n",
        "knn_cosine_pred=knn_cosine_predict(x_train_chi2, x_test_chi2, y_train, y_test, k=best_k)\n",
        "\n",
        "print(classification_report(y_test.to_list(),knn_cosine_pred))"
      ],
      "execution_count": null,
      "outputs": [
        {
          "output_type": "stream",
          "text": [
            "              precision    recall  f1-score   support\n",
            "\n",
            "           0       0.87      0.88      0.87       200\n",
            "           1       0.87      0.86      0.87       200\n",
            "\n",
            "    accuracy                           0.87       400\n",
            "   macro avg       0.87      0.87      0.87       400\n",
            "weighted avg       0.87      0.87      0.87       400\n",
            "\n"
          ],
          "name": "stdout"
        }
      ]
    },
    {
      "cell_type": "code",
      "metadata": {
        "colab": {
          "base_uri": "https://localhost:8080/"
        },
        "id": "nECMxdDV8dTS",
        "outputId": "0d3bcb4e-2f59-4116-e73e-91334296a592"
      },
      "source": [
        "knn_cosine_score=accuracy_score(y_test.to_list(),knn_cosine_pred)\n",
        "print(knn_cosine_score)"
      ],
      "execution_count": null,
      "outputs": [
        {
          "output_type": "stream",
          "text": [
            "0.87\n"
          ],
          "name": "stdout"
        }
      ]
    },
    {
      "cell_type": "markdown",
      "metadata": {
        "id": "LzqV1RxNMJMC"
      },
      "source": [
        "### **Confusion matrix**"
      ]
    },
    {
      "cell_type": "code",
      "metadata": {
        "colab": {
          "base_uri": "https://localhost:8080/",
          "height": 428
        },
        "id": "qbMhwgvN81Ne",
        "outputId": "cd9e9b59-feae-4395-c987-26dd5deaa676"
      },
      "source": [
        "import seaborn as sn\n",
        "\n",
        "cm = confusion_matrix(y_test.to_list(), knn_cosine_pred)\n",
        "\n",
        "group_names = ['True ham','False spam','False ham','True spam']\n",
        "group_counts = ['{0:0.0f}'.format(value) for value in cm.flatten()]\n",
        "group_percentages = ['{0:.2%}'.format(value) for value in cm.flatten()/np.sum(cm)]\n",
        "labels = [f'{v1}\\n{v2}\\n{v3}' for v1, v2, v3 in zip(group_names,group_counts,group_percentages)]\n",
        "labels = np.asarray(labels).reshape(2,2)\n",
        "plt.figure(figsize = (10,7))\n",
        "sn.heatmap(cm, annot=labels, fmt='', cmap='Blues')\n",
        "\n",
        "\n",
        "\n",
        "# sn.heatmap(cm/np.sum(cm), annot=True,fmt='.2%', cmap='Blues')\n",
        "\n",
        "plt.show()"
      ],
      "execution_count": null,
      "outputs": [
        {
          "output_type": "display_data",
          "data": {
            "image/png": "[encoded data removed]",
            "text/plain": [
              "<Figure size 720x504 with 2 Axes>"
            ]
          },
          "metadata": {
            "tags": []
          }
        }
      ]
    },
    {
      "cell_type": "markdown",
      "metadata": {
        "id": "EU5kvgHiIVc_"
      },
      "source": [
        "# **KNN with tf-idf**"
      ]
    },
    {
      "cell_type": "code",
      "metadata": {
        "id": "ylvM2K1OQwC0"
      },
      "source": [
        "from collections import defaultdict\n",
        "def compute_count(bag_of_words):\n",
        "  words_count= defaultdict(lambda: 0) \n",
        "  for word in bag_of_words:\n",
        "    words_count[word]+=1\n",
        "  return words_count"
      ],
      "execution_count": null,
      "outputs": []
    },
    {
      "cell_type": "code",
      "metadata": {
        "id": "1XwPx0wzL8Wv"
      },
      "source": [
        "import math\n",
        "def compute_tf(word,word_dict):\n",
        "  # word_dict : key-> word val-> times of appearance in that email\n",
        "    count=word_dict[word]\n",
        "    tf=math.log(count+1)\n",
        "    return tf"
      ],
      "execution_count": null,
      "outputs": []
    },
    {
      "cell_type": "code",
      "metadata": {
        "id": "XIWPfA97M2iw"
      },
      "source": [
        "def compute_idf(word,documents):\n",
        "    N = len(documents)\n",
        "    df=0\n",
        "    for document in documents:\n",
        "      if word in document.split(' '):\n",
        "        df+= 1\n",
        "    \n",
        "    idf=math.log(N/(df+1))\n",
        "    return idf"
      ],
      "execution_count": null,
      "outputs": []
    },
    {
      "cell_type": "code",
      "metadata": {
        "id": "QAyK6oTiNi31"
      },
      "source": [
        "def compute_tfidf(tfs, idfs):\n",
        "    tfidf = []\n",
        "    for tf , idf in zip(tfs,idfs):\n",
        "      tfidf.append(tf*idf)\n",
        "\n",
        "    return sum(tfidf)"
      ],
      "execution_count": null,
      "outputs": []
    },
    {
      "cell_type": "code",
      "metadata": {
        "id": "W5WJh9QaIKz6"
      },
      "source": [
        "from sklearn.metrics.pairwise import cosine_similarity,cosine_distances\n",
        "import numpy as np\n",
        "\n",
        "# Counter to help with label voting\n",
        "from collections import Counter\n",
        "\n",
        "def knn_tfidf_predict(x_train, x_test, y_train, y_test, k):\n",
        "\n",
        "    # Make predictions on the test data\n",
        "    # Need output of 1 prediction per test data point\n",
        "    y_hat = []\n",
        "\n",
        "    for test_d in x_test:\n",
        "\n",
        "        similarities = []\n",
        "        bow_test = list(np.unique(np.array(test_d.split(' '))))\n",
        "\n",
        "        idfs = [compute_idf(word, x_train) for word in bow_test]\n",
        "\n",
        "        for train_d in x_train:\n",
        "            bow_train=train_d.split(' ')\n",
        "            word_dict=computeCount(bow_train)\n",
        "            \n",
        "            tfs=[compute_tf(word,word_dict) for word in bow_test]\n",
        "            tf_idf=compute_tfidf(tfs,idfs)\n",
        "            similarities.append(tf_idf)\n",
        "        # Store distances in a dataframe\n",
        "        df_dists = pd.DataFrame(data=similarities, columns=['sim'], \n",
        "                                index=y_train.index)\n",
        "        \n",
        "        # Sort distances, and only consider the k closest points\n",
        "        df_nn = df_dists.sort_values(by=['sim'], axis=0,ascending=False)[:k]\n",
        "        # Create counter object to track the labels of k closest neighbors\n",
        "        counter = Counter(y_train[df_nn.index])\n",
        "        # Get most common label of all the nearest neighbors\n",
        "        prediction = counter.most_common()[0][0]\n",
        "        \n",
        "        # Append prediction to output list\n",
        "        y_hat.append(prediction)\n",
        "        \n",
        "    return y_hat\n"
      ],
      "execution_count": null,
      "outputs": []
    },
    {
      "cell_type": "markdown",
      "metadata": {
        "id": "M6Ng1nqvMl9o"
      },
      "source": [
        "get accuracy score for validation set prediction with k=5"
      ]
    },
    {
      "cell_type": "code",
      "metadata": {
        "colab": {
          "background_save": true,
          "base_uri": "https://localhost:8080/",
          "height": 1000
        },
        "id": "keVRxzCAwy6Z",
        "outputId": "9cbdf93e-0ef6-43bd-8d1d-2fd1d3dbb96f"
      },
      "source": [
        "#  Get test accuracy score\n",
        "\n",
        "from sklearn.metrics import accuracy_score\n",
        "y_val_pred_knn_tfidf=knn_tfidf_predict(x_train, x_val, y_train, y_val, k=5)\n",
        "print(accuracy_score(y_val.to_list(), y_val_pred_knn_tfidf))"
      ],
      "execution_count": null,
      "outputs": [
        {
          "output_type": "stream",
          "text": [
            "0.8833333333333333\n"
          ],
          "name": "stdout"
        }
      ]
    },
    {
      "cell_type": "markdown",
      "metadata": {
        "id": "dr6fA4FNMrR-"
      },
      "source": [
        "### **Hyperparameter tuning**"
      ]
    },
    {
      "cell_type": "code",
      "metadata": {
        "id": "YkzNF6mM8srX"
      },
      "source": [
        "knn_tfidf_accuracy=[]\n",
        "k_tfidf_values=[]\n",
        "for k in range(1,5):\n",
        "  y_pred_knn_tfidf=knn_tfidf_predict(x_train, x_val, y_train, y_val, k=k)\n",
        "  knn_tfidf_accuracy.append(accuracy_score(y_val.to_list(), y_pred_knn_tfidf))\n",
        "  k_tfidf_values.append(k)"
      ],
      "execution_count": null,
      "outputs": []
    },
    {
      "cell_type": "code",
      "metadata": {
        "colab": {
          "base_uri": "https://localhost:8080/",
          "height": 305
        },
        "id": "T7Ns-_WM8srZ",
        "outputId": "a6a7d99c-ea2d-4c9d-d553-a64ebf400c24"
      },
      "source": [
        "plt.plot(k_tfidf_values,knn_tfidf_accuracy,'--bo')\n",
        "print(knn_cosine_accuracy)\n",
        "best_k_tfidf=knn_tfidf_accuracy.index(max(knn_tfidf_accuracy))+1\n",
        "print(best_k_tfidf)"
      ],
      "execution_count": null,
      "outputs": [
        {
          "output_type": "stream",
          "text": [
            "[0.95, 0.95, 0.925, 0.95, 0.8916666666666667, 0.9166666666666666, 0.8916666666666667, 0.9333333333333333, 0.8916666666666667]\n",
            "1\n"
          ],
          "name": "stdout"
        },
        {
          "output_type": "display_data",
          "data": {
            "image/png": "[encoded data removed]",
            "text/plain": [
              "<Figure size 432x288 with 1 Axes>"
            ]
          },
          "metadata": {
            "tags": [],
            "needs_background": "light"
          }
        }
      ]
    },
    {
      "cell_type": "markdown",
      "metadata": {
        "id": "QYSjhAmfN1kT"
      },
      "source": [
        "### **Classification Report**"
      ]
    },
    {
      "cell_type": "code",
      "metadata": {
        "colab": {
          "base_uri": "https://localhost:8080/"
        },
        "id": "kNW8i_Fl8src",
        "outputId": "ed41eefe-803c-44dd-ded3-e7b5fd35d6b0"
      },
      "source": [
        "from sklearn.metrics import classification_report,confusion_matrix\n",
        "\n",
        "knn_tfidf_pred=knn_tfidf_predict(x_train, x_test, y_train, y_test, k=best_k_tfidf)\n",
        "\n",
        "print(classification_report(y_test.to_list(),knn_tfidf_pred))"
      ],
      "execution_count": null,
      "outputs": [
        {
          "output_type": "stream",
          "text": [
            "              precision    recall  f1-score   support\n",
            "\n",
            "           0       0.95      0.73      0.82       200\n",
            "           1       0.78      0.96      0.86       200\n",
            "\n",
            "    accuracy                           0.84       400\n",
            "   macro avg       0.86      0.84      0.84       400\n",
            "weighted avg       0.86      0.84      0.84       400\n",
            "\n"
          ],
          "name": "stdout"
        }
      ]
    },
    {
      "cell_type": "code",
      "metadata": {
        "colab": {
          "base_uri": "https://localhost:8080/"
        },
        "id": "qyWVbMIpHxI5",
        "outputId": "a94c6516-9954-4821-9b67-68e312a71f44"
      },
      "source": [
        "knn_tfidf_score=accuracy_score(y_test.to_list(),knn_tfidf_pred)\n",
        "print(knn_tfidf_score)"
      ],
      "execution_count": null,
      "outputs": [
        {
          "output_type": "stream",
          "text": [
            "0.845\n"
          ],
          "name": "stdout"
        }
      ]
    },
    {
      "cell_type": "markdown",
      "metadata": {
        "id": "3jDPjlXaN1kT"
      },
      "source": [
        "### **Confusion matrix**"
      ]
    },
    {
      "cell_type": "code",
      "metadata": {
        "colab": {
          "base_uri": "https://localhost:8080/",
          "height": 428
        },
        "id": "yeAfXHPkFVZy",
        "outputId": "5c352c70-94fe-4391-838d-04c94f228660"
      },
      "source": [
        "import seaborn as sn\n",
        "\n",
        "cm = confusion_matrix(y_test.to_list(), knn_tfidf_pred)\n",
        "\n",
        "group_names = ['True ham','False spam','False ham','True spam']\n",
        "group_counts = ['{0:0.0f}'.format(value) for value in cm.flatten()]\n",
        "group_percentages = ['{0:.2%}'.format(value) for value in cm.flatten()/np.sum(cm)]\n",
        "labels = [f'{v1}\\n{v2}\\n{v3}' for v1, v2, v3 in zip(group_names,group_counts,group_percentages)]\n",
        "labels = np.asarray(labels).reshape(2,2)\n",
        "plt.figure(figsize = (10,7))\n",
        "sn.heatmap(cm, annot=labels, fmt='', cmap='Blues')\n",
        "\n",
        "plt.show()"
      ],
      "execution_count": null,
      "outputs": [
        {
          "output_type": "display_data",
          "data": {
            "image/png": "[encoded data removed]",
            "text/plain": [
              "<Figure size 720x504 with 2 Axes>"
            ]
          },
          "metadata": {
            "tags": [],
            "needs_background": "light"
          }
        }
      ]
    },
    {
      "cell_type": "markdown",
      "metadata": {
        "id": "u96OLHPXo8KI"
      },
      "source": [
        "# **Naive bayes**"
      ]
    },
    {
      "cell_type": "code",
      "metadata": {
        "id": "0YXxJNjutEKc"
      },
      "source": [
        "from collections import defaultdict\n",
        "import re\n",
        "\n",
        "class NaiveBayes:\n",
        "    \n",
        "    def __init__(self,unique_classes):\n",
        "        \n",
        "        self.classes=unique_classes # Constructor is sinply passed with unique number of classes of the training set\n",
        "        \n",
        "    def addToBow(self,example,dict_index):\n",
        "  \n",
        "        \"\"\"\n",
        "              input:\n",
        "                1. example \n",
        "                2. dict_index - implies to which BoW category this example belongs to\n",
        "              ouput: Nothing \n",
        "        \"\"\"\n",
        "\n",
        "        if isinstance(example,np.ndarray):\n",
        "          example=example[0]\n",
        "     \n",
        "        for token_word in example.split(): #for every word in preprocessed example\n",
        "          \n",
        "            self.bow_dicts[dict_index][token_word]+=1 #increment in its count\n",
        "            \n",
        "    def train(self,dataset,labels):\n",
        "        \n",
        "        '''\n",
        "            input:\n",
        "              1. dataset - shape = (m X d)\n",
        "              2. labels - shape = (m,)\n",
        "            ouput: Nothing    \n",
        "        '''\n",
        "    \n",
        "        self.examples=dataset\n",
        "        self.labels=labels\n",
        "        self.bow_dicts=np.array([defaultdict(lambda:0) for index in range(self.classes.shape[0])])\n",
        "\n",
        "        if not isinstance(self.examples,np.ndarray): self.examples=np.array(self.examples)\n",
        "        if not isinstance(self.labels,np.ndarray): self.labels=np.array(self.labels)\n",
        "            \n",
        "        #constructing BoW for each category\n",
        "        for cat_index,cat in enumerate(self.classes):\n",
        "          \n",
        "            all_cat_examples=self.examples[self.labels==cat] \n",
        "\n",
        "            examples_list=[cat_example for cat_example in all_cat_examples]\n",
        "            \n",
        "            examples_list=pd.DataFrame(data=examples_list)\n",
        "            \n",
        "            #now costruct BoW of this particular category\n",
        "            np.apply_along_axis(self.addToBow,1,examples_list,cat_index)\n",
        "                \n",
        "      # -----------------------------------------------------------\n",
        "      \n",
        "        prob_classes=np.empty(self.classes.shape[0])\n",
        "        all_words=[]\n",
        "        cat_word_counts=np.empty(self.classes.shape[0])\n",
        "        for cat_index,cat in enumerate(self.classes):\n",
        "           \n",
        "            #Calculating prior probability p(c) for each class\n",
        "            prob_classes[cat_index]=np.sum(self.labels==cat)/float(self.labels.shape[0]) \n",
        "            \n",
        "            #Calculating total counts of all the words of each class \n",
        "            count=list(self.bow_dicts[cat_index].values())\n",
        "            cat_word_counts[cat_index]=np.sum(np.array(list(self.bow_dicts[cat_index].values())))+1 # |v| is remaining to be added\n",
        "            \n",
        "            #get all words of this category                                \n",
        "            all_words+=self.bow_dicts[cat_index].keys()\n",
        "                                                     \n",
        "        #get vocabulary -V- of entire training set\n",
        "        self.vocab=np.unique(np.array(all_words))\n",
        "        self.vocab_length=self.vocab.shape[0]\n",
        "                                  \n",
        "        #computing denominator value                                      \n",
        "        denoms=np.array([cat_word_counts[cat_index]+self.vocab_length+1 for cat_index,cat in enumerate(self.classes)])                                                                          \n",
        "        \n",
        "        self.cats_info=[(self.bow_dicts[cat_index],prob_classes[cat_index],denoms[cat_index]) for cat_index,cat in enumerate(self.classes)]                               \n",
        "        self.cats_info=np.array(self.cats_info)                                                                            \n",
        "                                              \n",
        "    def getExampleProb(self,test_example):                                \n",
        "        \n",
        "        '''\n",
        "            input: a single test example \n",
        "\n",
        "            ouput: probability of test example in ALL CLASSES\n",
        "        '''                                      \n",
        "                                              \n",
        "        likelihood_prob=np.zeros(self.classes.shape[0]) #to store probability w.r.t each class\n",
        "        \n",
        "        #finding probability w.r.t each class of the given test example\n",
        "        for cat_index,cat in enumerate(self.classes): \n",
        "                             \n",
        "            for test_token in test_example.split(): #split the test example and get p of each test word\n",
        "                                          \n",
        "                #This loop computes : for each word w [ count(w|c)+1 ] / [ count(c) + |V| + 1 ]                                                      \n",
        "                \n",
        "                #get total count of this test token from it's respective training dict to get numerator value                           \n",
        "                test_token_counts=self.cats_info[cat_index][0].get(test_token,0)+1\n",
        "                \n",
        "                #now get likelihood of this test_token word                              \n",
        "                test_token_prob=test_token_counts/float(self.cats_info[cat_index][2])                              \n",
        "                \n",
        "                #remember why taking log? To prevent underflow!\n",
        "                likelihood_prob[cat_index]+=np.log(test_token_prob)\n",
        "                                              \n",
        "        # we have likelihood estimate of the given example against every class but we need posterior probility\n",
        "        post_prob=np.empty(self.classes.shape[0])\n",
        "        for cat_index,cat in enumerate(self.classes):\n",
        "            post_prob[cat_index]=likelihood_prob[cat_index]+np.log(self.cats_info[cat_index][1])                                  \n",
        "      \n",
        "        return post_prob\n",
        "    \n",
        "   \n",
        "    def test(self,test_set):\n",
        "      \n",
        "        '''\n",
        "            input: A complete test set of shape (m,)\n",
        "            output: Predictions of test examples - A single prediction against every test example\n",
        "        '''       \n",
        "       \n",
        "        predictions=[]\n",
        "        for example in test_set:                               \n",
        "\n",
        "            post_prob=self.getExampleProb(example) #get prob of this example for both classes\n",
        "            \n",
        "            #simply pick the max value and map against self.classes!\n",
        "            predictions.append(self.classes[np.argmax(post_prob)])\n",
        "                \n",
        "        return np.array(predictions)"
      ],
      "execution_count": null,
      "outputs": []
    },
    {
      "cell_type": "code",
      "metadata": {
        "id": "xQza7kN2p_bW"
      },
      "source": [
        "nb=NaiveBayes(np.unique(y_train))\n",
        "nb.train(x_train,y_train)"
      ],
      "execution_count": null,
      "outputs": []
    },
    {
      "cell_type": "code",
      "metadata": {
        "id": "x07cXLi8qYoS"
      },
      "source": [
        "nb_pred=nb.test(x_test)\n",
        "nb_accuracy_score=accuracy_score(y_test.to_list(),nb_pred)"
      ],
      "execution_count": null,
      "outputs": []
    },
    {
      "cell_type": "markdown",
      "metadata": {
        "id": "rhmhyu-aN-Wj"
      },
      "source": [
        "### **Classification Report**"
      ]
    },
    {
      "cell_type": "code",
      "metadata": {
        "colab": {
          "base_uri": "https://localhost:8080/"
        },
        "id": "28YyEmo2CLUI",
        "outputId": "beff61db-7bae-4600-e648-3799513bf4d9"
      },
      "source": [
        "print(classification_report(y_test.to_list(),nb_pred))"
      ],
      "execution_count": null,
      "outputs": [
        {
          "output_type": "stream",
          "text": [
            "              precision    recall  f1-score   support\n",
            "\n",
            "           0       0.93      0.99      0.96       200\n",
            "           1       0.99      0.92      0.95       200\n",
            "\n",
            "    accuracy                           0.95       400\n",
            "   macro avg       0.96      0.96      0.95       400\n",
            "weighted avg       0.96      0.95      0.95       400\n",
            "\n"
          ],
          "name": "stdout"
        }
      ]
    },
    {
      "cell_type": "markdown",
      "metadata": {
        "id": "PTvXgmYNN-Wj"
      },
      "source": [
        "### **Confusion matrix**"
      ]
    },
    {
      "cell_type": "code",
      "metadata": {
        "colab": {
          "base_uri": "https://localhost:8080/",
          "height": 428
        },
        "id": "4WMoQ9GMCPWP",
        "outputId": "8257195b-2c90-4fb1-fc30-6df3c297cf9b"
      },
      "source": [
        "import seaborn as sn\n",
        "\n",
        "cfm = confusion_matrix(y_test.to_list(), nb_pred)\n",
        "\n",
        "group_names = ['True ham','False spam','False ham','True spam']\n",
        "group_counts = ['{0:0.0f}'.format(value) for value in cfm.flatten()]\n",
        "group_percentages = ['{0:.2%}'.format(value) for value in cfm.flatten()/np.sum(cfm)]\n",
        "labels = [f'{v1}\\n{v2}\\n{v3}' for v1, v2, v3 in zip(group_names,group_counts,group_percentages)]\n",
        "labels = np.asarray(labels).reshape(2,2)\n",
        "plt.figure(figsize = (10,7))\n",
        "sn.heatmap(cfm, annot=labels, fmt='', cmap='Blues')\n",
        "\n",
        "plt.show()"
      ],
      "execution_count": null,
      "outputs": [
        {
          "output_type": "display_data",
          "data": {
            "image/png": "[encoded data removed]",
            "text/plain": [
              "<Figure size 720x504 with 2 Axes>"
            ]
          },
          "metadata": {
            "tags": []
          }
        }
      ]
    },
    {
      "cell_type": "markdown",
      "metadata": {
        "id": "fMMhs0PjOBwy"
      },
      "source": [
        "# **Compare three algorithms' accuracy**"
      ]
    },
    {
      "cell_type": "code",
      "metadata": {
        "colab": {
          "base_uri": "https://localhost:8080/",
          "height": 359
        },
        "id": "-owPH8HFsafV",
        "outputId": "e0bea49a-255e-4270-de89-cb7cd7734ed4"
      },
      "source": [
        "plt.figure(figsize=(9, 6))\n",
        "names=['Cosine KNN','tf-idf KNN','Naive Bayes']\n",
        "scores=[knn_cosine_score,knn_tfidf_score,nb_accuracy_score]\n",
        "plt.figure(figsize = (6, 5))\n",
        "plt.bar(names,scores,width=0.1)\n",
        "plt.ylabel('Accuracy')\n",
        "plt.legend(bbox_to_anchor=(1.05, 1), loc=2);\n",
        "plt.show()"
      ],
      "execution_count": null,
      "outputs": [
        {
          "output_type": "stream",
          "text": [
            "No handles with labels found to put in legend.\n"
          ],
          "name": "stderr"
        },
        {
          "output_type": "display_data",
          "data": {
            "text/plain": [
              "<Figure size 648x432 with 0 Axes>"
            ]
          },
          "metadata": {
            "tags": []
          }
        },
        {
          "output_type": "display_data",
          "data": {
            "image/png": "[encoded data removed]",
            "text/plain": [
              "<Figure size 432x360 with 1 Axes>"
            ]
          },
          "metadata": {
            "tags": [],
            "needs_background": "light"
          }
        }
      ]
    }
  ]
}